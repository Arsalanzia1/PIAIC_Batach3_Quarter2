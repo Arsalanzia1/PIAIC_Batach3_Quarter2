{
 "cells": [
  {
   "cell_type": "code",
   "execution_count": 1,
   "metadata": {},
   "outputs": [],
   "source": [
    "import pandas as pd\n",
    "import numpy as np\n",
    "import matplotlib.pyplot as plt"
   ]
  },
  {
   "cell_type": "code",
   "execution_count": 22,
   "metadata": {},
   "outputs": [
    {
     "data": {
      "text/plain": [
       "array([1.2, 1.6, 1.5, 2. , 1.5, 9. , 1.5, 3. , 5. ])"
      ]
     },
     "execution_count": 22,
     "metadata": {},
     "output_type": "execute_result"
    }
   ],
   "source": [
    "x = np.array([1200,1400,1300,2200,3300,4000,5000,2500,6500])\n",
    "a = 1*1.5\n",
    "b = 6*1.5\n",
    "c= 1*1.5\n",
    "d = 2*1.5\n",
    "y = np.array([1.2,1.6,1.5,2.0,a,b,c,d,5.0])\n",
    "y"
   ]
  },
  {
   "cell_type": "raw",
   "metadata": {},
   "source": [
    "#df = pd.read_csv(\"https://raw.githubusercontent.com/EnggQasim/UIT/master/Deep_Learning/Chapter1/data/weight-height.csv\")\n",
    "df = pd.read_csv(\"./data/weight-height.csv\")\n",
    "df.info()\n",
    "df.head()"
   ]
  },
  {
   "cell_type": "code",
   "execution_count": 33,
   "metadata": {},
   "outputs": [
    {
     "name": "stdout",
     "output_type": "stream",
     "text": [
      "[73.84701702 68.78190405]\n",
      "\n",
      "[241.89356318 162.31047252]\n"
     ]
    }
   ],
   "source": [
    "X = df.Height.values\n",
    "y_true = df.Weight.values\n",
    "\n",
    "print(X[:2],\n",
    "     y_true[:2], sep=\"\\n\\n\")"
   ]
  },
  {
   "cell_type": "markdown",
   "metadata": {},
   "source": [
    "# wX+b\n",
    "- X provide by user (input)\n",
    "- W, b try to find these weights through machine learning algoritham\n"
   ]
  },
  {
   "cell_type": "code",
   "execution_count": 23,
   "metadata": {},
   "outputs": [],
   "source": [
    "#Line Equation\n",
    "def line(x, w=0, b=0):\n",
    "    return x * w + b\n",
    "\n",
    "# Cost Function\n",
    "def mean_squared_error(y_true, y_pred):\n",
    "    s = (y_true - y_pred) ** 2\n",
    "    return np.sqrt(s.mean())\n",
    "\n",
    "#1) real-predic\n",
    "#2) power\n",
    "#3) Average\n",
    "#4) sqrt\n"
   ]
  },
  {
   "cell_type": "code",
   "execution_count": 31,
   "metadata": {},
   "outputs": [
    {
     "name": "stdout",
     "output_type": "stream",
     "text": [
      "[1.7 1.9 1.8 2.7 3.8 4.5 5.5 3.  7. ]\n",
      "[1.2 1.6 1.5 2.  1.5 9.  1.5 3.  5. ]\n"
     ]
    },
    {
     "data": {
      "text/plain": [
       "5.162222222222223"
      ]
     },
     "execution_count": 31,
     "metadata": {},
     "output_type": "execute_result"
    },
    {
     "data": {
      "image/png": "[encoded data removed]",
      "text/plain": [
       "<Figure size 720x360 with 2 Axes>"
      ]
     },
     "metadata": {
      "needs_background": "light"
     },
     "output_type": "display_data"
    }
   ],
   "source": [
    "plt.figure(figsize=(10,5))\n",
    "ax1 = plt.subplot(121)#row, column, select cell\n",
    "plt.scatter(x,y)\n",
    "X=x\n",
    "y_true = y\n",
    "bs = np.array([0.5])\n",
    "\n",
    "mses = []# we will store loss value for each line\n",
    "for b in bs:\n",
    "    y_pred = line(X, w=0.001, b=b)\n",
    "    mse = mean_squared_error(y_true, y_pred)\n",
    "    mses.append(mse) # each line error/loss\n",
    "    plt.plot(X, y_pred)\n",
    "\n",
    "ax2 = plt.subplot(122) \n",
    "plt.plot(bs,mses, 'o-')\n",
    "plt.title(\"Cost function for each line\")\n",
    "plt.xlabel(\"b\")\n",
    "plt.ylabel(\"Loss\")\n",
    "print(y_pred)\n",
    "print(y_true)\n",
    "np.average(((y_pred-y_true)**2))"
   ]
  },
  {
   "cell_type": "code",
   "execution_count": 34,
   "metadata": {},
   "outputs": [
    {
     "data": {
      "text/plain": [
       "array([1200, 1400, 1300, 2200, 3300, 4000, 5000, 2500, 6500])"
      ]
     },
     "execution_count": 34,
     "metadata": {},
     "output_type": "execute_result"
    }
   ],
   "source": [
    "x"
   ]
  },
  {
   "cell_type": "code",
   "execution_count": 35,
   "metadata": {},
   "outputs": [
    {
     "data": {
      "text/plain": [
       "array([0.5055])"
      ]
     },
     "execution_count": 35,
     "metadata": {},
     "output_type": "execute_result"
    }
   ],
   "source": [
    "line(np.array([5.5]), w=0.001, b=0.5)"
   ]
  },
  {
   "cell_type": "code",
   "execution_count": 27,
   "metadata": {},
   "outputs": [
    {
     "data": {
      "text/plain": [
       "2.272052425060263"
      ]
     },
     "execution_count": 27,
     "metadata": {},
     "output_type": "execute_result"
    }
   ],
   "source": [
    "mse"
   ]
  },
  {
   "cell_type": "code",
   "execution_count": 28,
   "metadata": {},
   "outputs": [
    {
     "data": {
      "text/plain": [
       "[2.272052425060263]"
      ]
     },
     "execution_count": 28,
     "metadata": {},
     "output_type": "execute_result"
    }
   ],
   "source": [
    "mses"
   ]
  },
  {
   "cell_type": "code",
   "execution_count": 18,
   "metadata": {},
   "outputs": [
    {
     "name": "stdout",
     "output_type": "stream",
     "text": [
      "[1.2 1.6 1.5 2.  1.5 9.  1.5 3.  5. ]\n",
      "[ 2400.5  2800.5  2600.5  4400.5  6600.5  8000.5 10000.5  5000.5 13000.5]\n"
     ]
    }
   ],
   "source": [
    "print(y_true)\n",
    "print(y_pred)"
   ]
  },
  {
   "cell_type": "markdown",
   "metadata": {},
   "source": [
    "# Try to find w and b (weights) with Deep learning"
   ]
  },
  {
   "cell_type": "code",
   "execution_count": 11,
   "metadata": {},
   "outputs": [],
   "source": [
    "from tensorflow.keras.models import Sequential # Sequential/Functional Api\n",
    "from tensorflow.keras.layers import Dense # type of layer\n",
    "from tensorflow.keras.optimizers import Adam, SGD"
   ]
  },
  {
   "cell_type": "code",
   "execution_count": 12,
   "metadata": {},
   "outputs": [
    {
     "name": "stdout",
     "output_type": "stream",
     "text": [
      "[73.84701702 68.78190405]\n",
      "\n",
      "[241.89356318 162.31047252]\n"
     ]
    }
   ],
   "source": [
    "X = df.Height.values\n",
    "y_true = df.Weight.values\n",
    "\n",
    "print(X[:2],\n",
    "     y_true[:2], sep=\"\\n\\n\")"
   ]
  },
  {
   "cell_type": "code",
   "execution_count": 13,
   "metadata": {},
   "outputs": [
    {
     "data": {
      "text/plain": [
       "(10000,)"
      ]
     },
     "execution_count": 13,
     "metadata": {},
     "output_type": "execute_result"
    }
   ],
   "source": [
    "X.shape"
   ]
  },
  {
   "cell_type": "code",
   "execution_count": 15,
   "metadata": {},
   "outputs": [],
   "source": [
    "#Model Structure\n",
    "model = Sequential()\n",
    "model.add(Dense(1, input_shape=(1,)))"
   ]
  },
  {
   "cell_type": "code",
   "execution_count": 16,
   "metadata": {},
   "outputs": [
    {
     "name": "stdout",
     "output_type": "stream",
     "text": [
      "Model: \"sequential_1\"\n",
      "_________________________________________________________________\n",
      "Layer (type)                 Output Shape              Param #   \n",
      "=================================================================\n",
      "dense (Dense)                (None, 1)                 2         \n",
      "=================================================================\n",
      "Total params: 2\n",
      "Trainable params: 2\n",
      "Non-trainable params: 0\n",
      "_________________________________________________________________\n"
     ]
    }
   ],
   "source": [
    "model.summary()"
   ]
  },
  {
   "cell_type": "code",
   "execution_count": 17,
   "metadata": {},
   "outputs": [],
   "source": [
    "#compilation steps\n",
    "model.compile(Adam(lr=0.8), 'mean_squared_error')"
   ]
  },
  {
   "cell_type": "code",
   "execution_count": 19,
   "metadata": {},
   "outputs": [
    {
     "name": "stdout",
     "output_type": "stream",
     "text": [
      "Epoch 1/40\n",
      "313/313 [==============================] - 1s 2ms/step - loss: 1328.2812\n",
      "Epoch 2/40\n",
      "313/313 [==============================] - 1s 2ms/step - loss: 573.9647\n",
      "Epoch 3/40\n",
      "313/313 [==============================] - 1s 2ms/step - loss: 529.2777\n",
      "Epoch 4/40\n",
      "313/313 [==============================] - 1s 2ms/step - loss: 492.3606\n",
      "Epoch 5/40\n",
      "313/313 [==============================] - 1s 2ms/step - loss: 469.2266\n",
      "Epoch 6/40\n",
      "313/313 [==============================] - 1s 2ms/step - loss: 414.6873\n",
      "Epoch 7/40\n",
      "313/313 [==============================] - 1s 2ms/step - loss: 371.8924\n",
      "Epoch 8/40\n",
      "313/313 [==============================] - 1s 2ms/step - loss: 341.1653\n",
      "Epoch 9/40\n",
      "313/313 [==============================] - 1s 2ms/step - loss: 324.1262\n",
      "Epoch 10/40\n",
      "313/313 [==============================] - 1s 2ms/step - loss: 293.4867\n",
      "Epoch 11/40\n",
      "313/313 [==============================] - 1s 2ms/step - loss: 266.8832\n",
      "Epoch 12/40\n",
      "313/313 [==============================] - 1s 2ms/step - loss: 252.3976\n",
      "Epoch 13/40\n",
      "313/313 [==============================] - 1s 2ms/step - loss: 227.9318\n",
      "Epoch 14/40\n",
      "313/313 [==============================] - 1s 2ms/step - loss: 217.7313\n",
      "Epoch 15/40\n",
      "313/313 [==============================] - 1s 2ms/step - loss: 206.5532\n",
      "Epoch 16/40\n",
      "313/313 [==============================] - 1s 2ms/step - loss: 195.9618\n",
      "Epoch 17/40\n",
      "313/313 [==============================] - 1s 2ms/step - loss: 205.1259\n",
      "Epoch 18/40\n",
      "313/313 [==============================] - 1s 2ms/step - loss: 205.5403\n",
      "Epoch 19/40\n",
      "313/313 [==============================] - 1s 2ms/step - loss: 187.3348\n",
      "Epoch 20/40\n",
      "313/313 [==============================] - 1s 2ms/step - loss: 194.8420\n",
      "Epoch 21/40\n",
      "313/313 [==============================] - 1s 2ms/step - loss: 176.7484\n",
      "Epoch 22/40\n",
      "313/313 [==============================] - 1s 2ms/step - loss: 180.3119\n",
      "Epoch 23/40\n",
      "313/313 [==============================] - 1s 2ms/step - loss: 170.2480\n",
      "Epoch 24/40\n",
      "313/313 [==============================] - 1s 2ms/step - loss: 172.2670\n",
      "Epoch 25/40\n",
      "313/313 [==============================] - 1s 2ms/step - loss: 172.9995\n",
      "Epoch 26/40\n",
      "313/313 [==============================] - 1s 2ms/step - loss: 185.5008\n",
      "Epoch 27/40\n",
      "313/313 [==============================] - 1s 2ms/step - loss: 188.9528\n",
      "Epoch 28/40\n",
      "313/313 [==============================] - 1s 2ms/step - loss: 186.0338\n",
      "Epoch 29/40\n",
      "313/313 [==============================] - 1s 2ms/step - loss: 169.6999\n",
      "Epoch 30/40\n",
      "313/313 [==============================] - 1s 2ms/step - loss: 174.0121\n",
      "Epoch 31/40\n",
      "313/313 [==============================] - 1s 2ms/step - loss: 184.5653\n",
      "Epoch 32/40\n",
      "313/313 [==============================] - 1s 2ms/step - loss: 181.0042\n",
      "Epoch 33/40\n",
      "313/313 [==============================] - 1s 2ms/step - loss: 182.5037\n",
      "Epoch 34/40\n",
      "313/313 [==============================] - 1s 2ms/step - loss: 179.3871\n",
      "Epoch 35/40\n",
      "313/313 [==============================] - 1s 2ms/step - loss: 184.3535\n",
      "Epoch 36/40\n",
      "313/313 [==============================] - 1s 2ms/step - loss: 172.2571\n",
      "Epoch 37/40\n",
      "313/313 [==============================] - 1s 2ms/step - loss: 172.6296\n",
      "Epoch 38/40\n",
      "313/313 [==============================] - 1s 2ms/step - loss: 181.2209\n",
      "Epoch 39/40\n",
      "313/313 [==============================] - 1s 2ms/step - loss: 180.3127\n",
      "Epoch 40/40\n",
      "313/313 [==============================] - 1s 2ms/step - loss: 181.2277\n"
     ]
    },
    {
     "data": {
      "text/plain": [
       "<tensorflow.python.keras.callbacks.History at 0x7f82da3df2d0>"
      ]
     },
     "execution_count": 19,
     "metadata": {},
     "output_type": "execute_result"
    }
   ],
   "source": [
    "#Model Training\n",
    "model.fit(X, y_true, epochs=40)"
   ]
  },
  {
   "cell_type": "code",
   "execution_count": 20,
   "metadata": {},
   "outputs": [
    {
     "data": {
      "text/plain": [
       "array([[226.51132],\n",
       "       [187.1207 ],\n",
       "       [228.55734],\n",
       "       ...,\n",
       "       [148.90588],\n",
       "       [189.08304],\n",
       "       [133.94519]], dtype=float32)"
      ]
     },
     "execution_count": 20,
     "metadata": {},
     "output_type": "execute_result"
    }
   ],
   "source": [
    "y_pred = model.predict(X)\n",
    "y_pred"
   ]
  },
  {
   "cell_type": "code",
   "execution_count": 21,
   "metadata": {},
   "outputs": [
    {
     "data": {
      "text/plain": [
       "[<matplotlib.lines.Line2D at 0x7f82ac745910>]"
      ]
     },
     "execution_count": 21,
     "metadata": {},
     "output_type": "execute_result"
    },
    {
     "data": {
      "image/png": "[encoded data removed]",
      "text/plain": [
       "<Figure size 432x288 with 1 Axes>"
      ]
     },
     "metadata": {
      "needs_background": "light"
     },
     "output_type": "display_data"
    }
   ],
   "source": [
    "df.plot(kind='scatter',\n",
    "       x=\"Height\",\n",
    "       y=\"Weight\",\n",
    "       title=\"Height Vs Weight with Deep learning\")\n",
    "plt.plot(X, y_pred, color=\"red\", linewidth=3)"
   ]
  },
  {
   "cell_type": "code",
   "execution_count": 23,
   "metadata": {},
   "outputs": [
    {
     "name": "stdout",
     "output_type": "stream",
     "text": [
      "[[7.776857]] [-347.78635]\n"
     ]
    }
   ],
   "source": [
    "w, b = model.get_weights()\n",
    "print(w,b)"
   ]
  },
  {
   "cell_type": "code",
   "execution_count": 24,
   "metadata": {},
   "outputs": [
    {
     "data": {
      "text/plain": [
       "array([[585.4365]], dtype=float32)"
      ]
     },
     "execution_count": 24,
     "metadata": {},
     "output_type": "execute_result"
    }
   ],
   "source": [
    "model.predict([[120]])"
   ]
  },
  {
   "cell_type": "code",
   "execution_count": 29,
   "metadata": {},
   "outputs": [
    {
     "name": "stdout",
     "output_type": "stream",
     "text": [
      "Enter Height in Number80\n"
     ]
    },
    {
     "data": {
      "text/plain": [
       "<matplotlib.collections.PathCollection at 0x7f82ac65d6d0>"
      ]
     },
     "execution_count": 29,
     "metadata": {},
     "output_type": "execute_result"
    },
    {
     "data": {
      "image/png": "[encoded data removed]",
      "text/plain": [
       "<Figure size 432x288 with 1 Axes>"
      ]
     },
     "metadata": {
      "needs_background": "light"
     },
     "output_type": "display_data"
    }
   ],
   "source": [
    "i = int(input(\"Enter Height in Number\"))\n",
    "j = model.predict([[i]])\n",
    "\n",
    "df.plot(kind='scatter',\n",
    "       x=\"Height\",\n",
    "       y=\"Weight\",\n",
    "       title=\"Height Vs Weight with Deep learning\")\n",
    "plt.plot(X, y_pred, color=\"red\", linewidth=3)\n",
    "plt.scatter(i,j, color='green')"
   ]
  },
  {
   "cell_type": "code",
   "execution_count": null,
   "metadata": {},
   "outputs": [],
   "source": [
    "#colab.com\n",
    "#import tensorflow\n",
    "#tensorflow.__version__\n",
    "#pip install --upgrade tensorflow\n",
    "#tensorflow.__version__"
   ]
  },
  {
   "cell_type": "code",
   "execution_count": 30,
   "metadata": {},
   "outputs": [],
   "source": [
    "model.save(\"./weight_height_model.h5\")"
   ]
  },
  {
   "cell_type": "code",
   "execution_count": null,
   "metadata": {},
   "outputs": [],
   "source": []
  }
 ],
 "metadata": {
  "kernelspec": {
   "display_name": "Python 3",
   "language": "python",
   "name": "python3"
  },
  "language_info": {
   "codemirror_mode": {
    "name": "ipython",
    "version": 3
   },
   "file_extension": ".py",
   "mimetype": "text/x-python",
   "name": "python",
   "nbconvert_exporter": "python",
   "pygments_lexer": "ipython3",
   "version": "3.7.6"
  }
 },
 "nbformat": 4,
 "nbformat_minor": 4
}
